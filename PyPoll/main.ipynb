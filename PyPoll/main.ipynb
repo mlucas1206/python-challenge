{
 "cells": [
  {
   "cell_type": "code",
   "execution_count": null,
   "metadata": {},
   "outputs": [],
   "source": [
    "#import\n",
    "import os,csv\n",
    "\n",
    "#set paths\n",
    "electionpath = os.path.join('Resources','election_data.csv')"
   ]
  },
  {
   "cell_type": "code",
   "execution_count": null,
   "metadata": {},
   "outputs": [],
   "source": [
    "#read csv file and place content in variables\n",
    "with open(electionpath, 'r') as elecfile:\n",
    "    elec_iter = csv.reader(elecfile, delimiter =',')\n",
    "    \n",
    "    #header skip\n",
    "    header = next(elec_iter)\n",
    "\n",
    "    #transfer to lists 369711 items\n",
    "    eleclist = []\n",
    "    for x in elec_iter:\n",
    "        eleclist.append(x)"
   ]
  },
  {
   "attachments": {},
   "cell_type": "markdown",
   "metadata": {},
   "source": [
    "# PyPoll Code\n",
    "\n",
    "You will be given a set of poll data called election_data.csv. The dataset is composed of three columns: \"Voter ID\", \"County\", and \"Candidate\". Your task is to create a Python script that analyzes the votes and calculates each of the following values:\n",
    "\n",
    "- The total number of votes cast\n",
    "\n",
    "- A complete list of candidates who received votes"
   ]
  },
  {
   "cell_type": "code",
   "execution_count": null,
   "metadata": {},
   "outputs": [],
   "source": [
    "#votes casted\n",
    "votes = len(eleclist)\n",
    "\n",
    "#get candidates\n",
    "candidates = []\n",
    "votelist = []\n",
    "for x in eleclist:\n",
    "    if x[2] not in candidates:\n",
    "        candidates.append(x[2])\n",
    "\n",
    "    #make a list of names\n",
    "    votelist.append(x[2])\n",
    "print(candidates)\n",
    "print(len(votelist))"
   ]
  },
  {
   "attachments": {},
   "cell_type": "markdown",
   "metadata": {},
   "source": [
    "- The percentage of votes each candidate won\n",
    "\n",
    "- The total number of votes each candidate won"
   ]
  },
  {
   "cell_type": "code",
   "execution_count": null,
   "metadata": {},
   "outputs": [],
   "source": [
    "#percentage and votecount\n",
    "count = []\n",
    "win_perc = []\n",
    "for x in range(len(candidates)): #from 0 - 2 (3 candidates)\n",
    "    count.append(votelist.count(candidates[x]))\n",
    "    win_perc.append(round(count[x]/votes *100,3))\n",
    "print(count)\n",
    "print(win_perc)"
   ]
  },
  {
   "attachments": {},
   "cell_type": "markdown",
   "metadata": {},
   "source": [
    "- The winner of the election based on popular vote"
   ]
  },
  {
   "cell_type": "code",
   "execution_count": null,
   "metadata": {},
   "outputs": [],
   "source": [
    "#get winner\n",
    "winner = candidates[count.index(max(count))] #max of count index in candidates\n",
    "print(winner)"
   ]
  },
  {
   "cell_type": "code",
   "execution_count": null,
   "metadata": {},
   "outputs": [],
   "source": [
    "#print results\n",
    "\n",
    "result=[]\n",
    "result.append(f'Election Reults\\n\\\n",
    "-------------------------\\n\\\n",
    "Total Votes: {votes}\\n\\\n",
    "-------------------------\\n')\n",
    "      \n",
    "#print per candidate\n",
    "for x in range(len(candidates)):\n",
    "    result.append(f'{candidates[x]}: {win_perc[x]}% ({count[x]})\\n')\n",
    "\n",
    "result.append(f'-------------------------\\n\\\n",
    "Winner: {winner}\\n\\\n",
    "-------------------------')\n",
    "\n",
    "#print looped with txt file write"
   ]
  },
  {
   "cell_type": "code",
   "execution_count": null,
   "metadata": {},
   "outputs": [],
   "source": [
    "#write to txt file\n",
    "#create new txt file and place results\n",
    "with open('analysis/results.txt', 'w') as txtfile:\n",
    "    for x in result:\n",
    "        print(x)\n",
    "        txtfile.writelines(x)"
   ]
  }
 ],
 "metadata": {
  "kernelspec": {
   "display_name": "dev",
   "language": "python",
   "name": "python3"
  },
  "language_info": {
   "codemirror_mode": {
    "name": "ipython",
    "version": 3
   },
   "file_extension": ".py",
   "mimetype": "text/x-python",
   "name": "python",
   "nbconvert_exporter": "python",
   "pygments_lexer": "ipython3",
   "version": "3.10.11"
  },
  "orig_nbformat": 4
 },
 "nbformat": 4,
 "nbformat_minor": 2
}
