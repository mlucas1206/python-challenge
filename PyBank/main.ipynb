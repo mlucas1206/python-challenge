{
 "cells": [
  {
   "attachments": {},
   "cell_type": "markdown",
   "metadata": {},
   "source": [
    "# PyBank Code\n",
    "\n",
    "In this Challenge, you are tasked with creating a Python script to analyze the financial records of your company. You will be given a financial dataset called **budget_data.csv**. The dataset is composed of two columns: \"Date\" and \"Profit/Losses\".\n"
   ]
  },
  {
   "cell_type": "code",
   "execution_count": 1,
   "metadata": {},
   "outputs": [
    {
     "ename": "",
     "evalue": "",
     "output_type": "error",
     "traceback": [
      "\u001b[1;31mThe Kernel crashed while executing code in the the current cell or a previous cell. Please review the code in the cell(s) to identify a possible cause of the failure. Click <a href='https://aka.ms/vscodeJupyterKernelCrash'>here</a> for more info. View Jupyter <a href='command:jupyter.viewOutput'>log</a> for further details."
     ]
    }
   ],
   "source": [
    "#Import libraries\n",
    "import os, csv\n",
    "\n",
    "#set path\n",
    "budgetpath = os.path.join('Resources','budget_data.csv')"
   ]
  },
  {
   "cell_type": "code",
   "execution_count": 2,
   "metadata": {},
   "outputs": [],
   "source": [
    "#read csv file and place content in variables\n",
    "with open(budgetpath, 'r') as budgetfile:\n",
    "    budget_iter = csv.reader(budgetfile)\n",
    "    \n",
    "    #header skip\n",
    "    header = next(budget_iter)\n",
    "\n",
    "    #transfer to lists\n",
    "    budgetlist = []\n",
    "    for x in budget_iter:\n",
    "        budgetlist.append(x)\n",
    "        "
   ]
  },
  {
   "attachments": {},
   "cell_type": "markdown",
   "metadata": {},
   "source": [
    "Your task is to create a Python script that analyzes the records to calculate each of the following values:\n",
    "\n",
    "* The total number of months included in the dataset\n",
    "\n",
    "* The net total amount of \"Profit/Losses\" over the entire period\n",
    "\n",
    "* The changes in \"Profit/Losses\" over the entire period, and then the average of those changes"
   ]
  },
  {
   "cell_type": "code",
   "execution_count": 3,
   "metadata": {},
   "outputs": [
    {
     "name": "stdout",
     "output_type": "stream",
     "text": [
      "86\n"
     ]
    }
   ],
   "source": [
    "#number of months\n",
    "period = len(budgetlist)\n",
    "print(period)\n",
    "#net total amount of Proft/Loss\n",
    "netincome = 0\n",
    "for x in budgetlist:\n",
    "    netincome += int(x[1])\n",
    "\n",
    "#changes in profits or loss average (end value - begin value)/length\n",
    "average = (int(budgetlist[(period-1)][1]) - int(budgetlist[0][1]))/(period-1)\n"
   ]
  },
  {
   "attachments": {},
   "cell_type": "markdown",
   "metadata": {},
   "source": [
    "* The greatest increase in profits (date and amount) over the entire period\n",
    "\n",
    "* The greatest decrease in profits (date and amount) over the entire period"
   ]
  },
  {
   "cell_type": "code",
   "execution_count": 4,
   "metadata": {},
   "outputs": [
    {
     "name": "stdout",
     "output_type": "stream",
     "text": [
      "86\n"
     ]
    }
   ],
   "source": [
    "\n",
    "#greatest inc/dec\n",
    "prev = int(budgetlist[0][1]) #this is previous amount variable. Used first row amount\n",
    "change = [] #make a list of inc/dec\n",
    "\n",
    "#fill list of inc/dec\n",
    "for x in budgetlist:\n",
    "   change.append(int(x[1]) - prev)\n",
    "   prev = int(x[1])\n",
    "print(len(change))\n",
    "\n",
    "#pull greatest inc/dec details\n",
    "inc = max(change)\n",
    "dec = min(change)\n",
    "\n",
    "   #grab date by indexing amounts (list[row][column])\n",
    "inc_date = budgetlist[change.index(inc)][0]\n",
    "dec_date = budgetlist[change.index(dec)][0]"
   ]
  },
  {
   "cell_type": "code",
   "execution_count": 5,
   "metadata": {},
   "outputs": [
    {
     "name": "stdout",
     "output_type": "stream",
     "text": [
      "Financial Analysis\n",
      "----------------------------\n",
      "Total Months: 86\n",
      "Total: $22564198\n",
      "Average Change: $-8311.11\n",
      "Greatest Increase in Profits: Aug-16 ($1862002)\n",
      "Greatest Decrease in Profits: Feb-14 ($-1825558)\n"
     ]
    }
   ],
   "source": [
    "#print results\n",
    "result = (f\"\"\"Financial Analysis\n",
    "----------------------------\n",
    "Total Months: {period}\n",
    "Total: ${netincome}\n",
    "Average Change: ${round(average,2)}\n",
    "Greatest Increase in Profits: {inc_date} (${inc})\n",
    "Greatest Decrease in Profits: {dec_date} (${dec})\"\"\")\n",
    "\n",
    "print(result)"
   ]
  },
  {
   "cell_type": "code",
   "execution_count": 6,
   "metadata": {},
   "outputs": [],
   "source": [
    "#create new txt file and place results\n",
    "with open('analysis/results.txt', 'w') as txtfile:\n",
    "    txtfile.write(result)"
   ]
  }
 ],
 "metadata": {
  "kernelspec": {
   "display_name": "dev",
   "language": "python",
   "name": "python3"
  },
  "language_info": {
   "codemirror_mode": {
    "name": "ipython",
    "version": 3
   },
   "file_extension": ".py",
   "mimetype": "text/x-python",
   "name": "python",
   "nbconvert_exporter": "python",
   "pygments_lexer": "ipython3",
   "version": "3.10.11"
  },
  "orig_nbformat": 4
 },
 "nbformat": 4,
 "nbformat_minor": 2
}
